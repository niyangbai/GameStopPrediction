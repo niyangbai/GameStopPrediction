{
 "cells": [
  {
   "cell_type": "markdown",
   "source": [
    "Data Exploration\n",
    "=======\n",
    "In this section is mainly to show the raw data structure, cleaning and vectorization process. With the help of `praw` and `pasw`, raw data can be crawled from *Reddit.com*."
   ],
   "metadata": {
    "collapsed": false,
    "pycharm": {
     "name": "#%% md\n"
    }
   }
  },
  {
   "cell_type": "code",
   "execution_count": 1,
   "metadata": {
    "collapsed": true,
    "pycharm": {
     "name": "#%%\n"
    }
   },
   "outputs": [],
   "source": [
    "import os\n",
    "import pandas as pd\n",
    "\n",
    "os.chdir('D:\\\\github\\\\master_thesis_2022')\n",
    "cwd = os.getcwd()"
   ]
  },
  {
   "cell_type": "markdown",
   "source": [
    "-----\n",
    "### Data Generating\n",
    "As shown in the following table, Reddit features, `id`, `url`, `title`, `score`, `num_comments`, `created_utc`,`selftext` and `top_comments` of each submission are recorded by `RdtData`.\n",
    "\n",
    "* `id` refers to the 6-digit unique code for every submission, and they can be reached by <u>*https://redd.it/* + *id*</u>. For example, <u>https://redd.it/tu2men</u> leads to the submission with `id` : *tu2men*\n",
    "* `url` is the original url of every submission.\n",
    "* `title` is the original title of every submission, which can be deleted by user itself or removed by block moderators.\n",
    "* `score` is simply the number of upvotes minus the number of downvotes.\n",
    "* `num_comments` refers to the number of comments of every submission.\n",
    "* `created_utc` is the creat time of every submission in Coordinated Universal Time format.\n",
    "* `selftext` is the body of every submission. It can be text, image or empty.\n",
    "* `top_comments` is the combination of the first few comments sorted by option *top*. Note that the comments by spam users i.e. those who always post unrelated content e.g. community regulations and ads are removed in advance."
   ],
   "metadata": {
    "collapsed": false,
    "pycharm": {
     "name": "#%% md\n"
    }
   }
  },
  {
   "cell_type": "code",
   "execution_count": 2,
   "outputs": [
    {
     "data": {
      "text/plain": "       id                                                url  \\\n0  tu2rj7  https://www.reddit.com/r/wallstreetbets/commen...   \n1  tu2mtj                https://i.redd.it/yp2zfi16ozq81.jpg   \n2  tu2mmh  https://www.reddit.com/r/wallstreetbets/commen...   \n3  tu2men  https://www.reddit.com/r/wallstreetbets/commen...   \n4  tu2do4                https://i.redd.it/xtiyaju5mzq81.jpg   \n\n                                               title  score  num_comments  \\\n0                                            r/place      1             2   \n1                        Diamond hands in Madison WI      1             0   \n2  GameStop's Board of Directors wants to dilute ...      0            12   \n3                     ok..OK... what happened today?      0            24   \n4  Just a couple of my positions… ($SPY & $NIO hi...      1             2   \n\n    created_utc                                           selftext  \\\n0  1.648850e+09                                          [removed]   \n1  1.648850e+09                                                NaN   \n2  1.648850e+09  The below is an excerpt from GameStop's recent...   \n3  1.648850e+09                                          [removed]   \n4  1.648849e+09                                                NaN   \n\n                                        top_comments  \n0                                                NaN  \n1                                                NaN  \n2  1 Billion shares for a mall/strip-mall brick-a...  \n3  dude its a momentum trade, theres no real sens...  \n4                                                NaN  ",
      "text/html": "<div>\n<style scoped>\n    .dataframe tbody tr th:only-of-type {\n        vertical-align: middle;\n    }\n\n    .dataframe tbody tr th {\n        vertical-align: top;\n    }\n\n    .dataframe thead th {\n        text-align: right;\n    }\n</style>\n<table border=\"1\" class=\"dataframe\">\n  <thead>\n    <tr style=\"text-align: right;\">\n      <th></th>\n      <th>id</th>\n      <th>url</th>\n      <th>title</th>\n      <th>score</th>\n      <th>num_comments</th>\n      <th>created_utc</th>\n      <th>selftext</th>\n      <th>top_comments</th>\n    </tr>\n  </thead>\n  <tbody>\n    <tr>\n      <th>0</th>\n      <td>tu2rj7</td>\n      <td>https://www.reddit.com/r/wallstreetbets/commen...</td>\n      <td>r/place</td>\n      <td>1</td>\n      <td>2</td>\n      <td>1.648850e+09</td>\n      <td>[removed]</td>\n      <td>NaN</td>\n    </tr>\n    <tr>\n      <th>1</th>\n      <td>tu2mtj</td>\n      <td>https://i.redd.it/yp2zfi16ozq81.jpg</td>\n      <td>Diamond hands in Madison WI</td>\n      <td>1</td>\n      <td>0</td>\n      <td>1.648850e+09</td>\n      <td>NaN</td>\n      <td>NaN</td>\n    </tr>\n    <tr>\n      <th>2</th>\n      <td>tu2mmh</td>\n      <td>https://www.reddit.com/r/wallstreetbets/commen...</td>\n      <td>GameStop's Board of Directors wants to dilute ...</td>\n      <td>0</td>\n      <td>12</td>\n      <td>1.648850e+09</td>\n      <td>The below is an excerpt from GameStop's recent...</td>\n      <td>1 Billion shares for a mall/strip-mall brick-a...</td>\n    </tr>\n    <tr>\n      <th>3</th>\n      <td>tu2men</td>\n      <td>https://www.reddit.com/r/wallstreetbets/commen...</td>\n      <td>ok..OK... what happened today?</td>\n      <td>0</td>\n      <td>24</td>\n      <td>1.648850e+09</td>\n      <td>[removed]</td>\n      <td>dude its a momentum trade, theres no real sens...</td>\n    </tr>\n    <tr>\n      <th>4</th>\n      <td>tu2do4</td>\n      <td>https://i.redd.it/xtiyaju5mzq81.jpg</td>\n      <td>Just a couple of my positions… ($SPY &amp; $NIO hi...</td>\n      <td>1</td>\n      <td>2</td>\n      <td>1.648849e+09</td>\n      <td>NaN</td>\n      <td>NaN</td>\n    </tr>\n  </tbody>\n</table>\n</div>"
     },
     "execution_count": 2,
     "metadata": {},
     "output_type": "execute_result"
    }
   ],
   "source": [
    "df_rdt = pd.read_csv(os.path.join(cwd, 'data\\\\interim\\\\df_rdt.csv'), encoding='utf-8-sig')\n",
    "df_rdt.head()"
   ],
   "metadata": {
    "collapsed": false,
    "pycharm": {
     "name": "#%%\n"
    }
   }
  },
  {
   "cell_type": "markdown",
   "source": [
    "With the help of `FinData`, the *GME* historical price and *S&P500* index are collected at a daily level, and they are later merged with Reddit data `df_rdt` by date."
   ],
   "metadata": {
    "collapsed": false,
    "pycharm": {
     "name": "#%% md\n"
    }
   }
  },
  {
   "cell_type": "code",
   "execution_count": 3,
   "outputs": [
    {
     "data": {
      "text/plain": "         Date    Open      High      Low   Close    Volume\n0  2022-04-01  188.90  189.7688  155.260  165.00  13189563\n1  2022-03-31  163.10  175.7450  158.510  166.58  11242228\n2  2022-03-30  175.00  183.3369  165.000  166.85   9169186\n3  2022-03-29  188.24  199.4100  163.000  179.90  18011489\n4  2022-03-28  151.98  190.8400  151.545  189.59  16316524",
      "text/html": "<div>\n<style scoped>\n    .dataframe tbody tr th:only-of-type {\n        vertical-align: middle;\n    }\n\n    .dataframe tbody tr th {\n        vertical-align: top;\n    }\n\n    .dataframe thead th {\n        text-align: right;\n    }\n</style>\n<table border=\"1\" class=\"dataframe\">\n  <thead>\n    <tr style=\"text-align: right;\">\n      <th></th>\n      <th>Date</th>\n      <th>Open</th>\n      <th>High</th>\n      <th>Low</th>\n      <th>Close</th>\n      <th>Volume</th>\n    </tr>\n  </thead>\n  <tbody>\n    <tr>\n      <th>0</th>\n      <td>2022-04-01</td>\n      <td>188.90</td>\n      <td>189.7688</td>\n      <td>155.260</td>\n      <td>165.00</td>\n      <td>13189563</td>\n    </tr>\n    <tr>\n      <th>1</th>\n      <td>2022-03-31</td>\n      <td>163.10</td>\n      <td>175.7450</td>\n      <td>158.510</td>\n      <td>166.58</td>\n      <td>11242228</td>\n    </tr>\n    <tr>\n      <th>2</th>\n      <td>2022-03-30</td>\n      <td>175.00</td>\n      <td>183.3369</td>\n      <td>165.000</td>\n      <td>166.85</td>\n      <td>9169186</td>\n    </tr>\n    <tr>\n      <th>3</th>\n      <td>2022-03-29</td>\n      <td>188.24</td>\n      <td>199.4100</td>\n      <td>163.000</td>\n      <td>179.90</td>\n      <td>18011489</td>\n    </tr>\n    <tr>\n      <th>4</th>\n      <td>2022-03-28</td>\n      <td>151.98</td>\n      <td>190.8400</td>\n      <td>151.545</td>\n      <td>189.59</td>\n      <td>16316524</td>\n    </tr>\n  </tbody>\n</table>\n</div>"
     },
     "execution_count": 3,
     "metadata": {},
     "output_type": "execute_result"
    }
   ],
   "source": [
    "df_gme = pd.read_csv(os.path.join(cwd, 'data\\\\interim\\\\df_gme.csv'), encoding='utf-8-sig')\n",
    "df_gme.head()"
   ],
   "metadata": {
    "collapsed": false,
    "pycharm": {
     "name": "#%%\n"
    }
   }
  },
  {
   "cell_type": "code",
   "execution_count": 4,
   "outputs": [
    {
     "data": {
      "text/plain": "         DATE    sp500\n0  2022-03-01  4306.26\n1  2022-03-02  4386.54\n2  2022-03-03  4363.49\n3  2022-03-04  4328.87\n4  2022-03-07  4201.09",
      "text/html": "<div>\n<style scoped>\n    .dataframe tbody tr th:only-of-type {\n        vertical-align: middle;\n    }\n\n    .dataframe tbody tr th {\n        vertical-align: top;\n    }\n\n    .dataframe thead th {\n        text-align: right;\n    }\n</style>\n<table border=\"1\" class=\"dataframe\">\n  <thead>\n    <tr style=\"text-align: right;\">\n      <th></th>\n      <th>DATE</th>\n      <th>sp500</th>\n    </tr>\n  </thead>\n  <tbody>\n    <tr>\n      <th>0</th>\n      <td>2022-03-01</td>\n      <td>4306.26</td>\n    </tr>\n    <tr>\n      <th>1</th>\n      <td>2022-03-02</td>\n      <td>4386.54</td>\n    </tr>\n    <tr>\n      <th>2</th>\n      <td>2022-03-03</td>\n      <td>4363.49</td>\n    </tr>\n    <tr>\n      <th>3</th>\n      <td>2022-03-04</td>\n      <td>4328.87</td>\n    </tr>\n    <tr>\n      <th>4</th>\n      <td>2022-03-07</td>\n      <td>4201.09</td>\n    </tr>\n  </tbody>\n</table>\n</div>"
     },
     "execution_count": 4,
     "metadata": {},
     "output_type": "execute_result"
    }
   ],
   "source": [
    "df_sp500 = pd.read_csv(os.path.join(cwd, 'data\\\\interim\\\\df_sp500.csv'), encoding='utf-8-sig')\n",
    "df_sp500.head()"
   ],
   "metadata": {
    "collapsed": false,
    "pycharm": {
     "name": "#%%\n"
    }
   }
  },
  {
   "cell_type": "markdown",
   "source": [
    "------\n",
    "### Data Cleaning\n",
    "For data cleaning process, several steps are followed.\n",
    "1. Instead of `None`, for deleted or removed content, *[deleted]* or *[removed]* are collected, and replace them with `None` is necessary.\n",
    "2. A submission is removed if all its three key features i.e. `title`, `selftext` and `top_comments` are empty, as it is not useful.\n",
    "3. *New Line* i.e. */n* are replaced simply with space.\n",
    "4. *urls* and *images* in the text are removed as they contain no information for NLP.\n",
    "5. Submit time are reformatted into human time at the day level.\n",
    "6. emojis are either removed or replaced with its English representation."
   ],
   "metadata": {
    "collapsed": false,
    "pycharm": {
     "name": "#%% md\n"
    }
   }
  },
  {
   "cell_type": "code",
   "execution_count": 5,
   "outputs": [
    {
     "data": {
      "text/plain": "   Unnamed: 0      id                                                url  \\\n0           0  tu2rj7  https://www.reddit.com/r/wallstreetbets/commen...   \n1           1  tu2mtj                https://i.redd.it/yp2zfi16ozq81.jpg   \n2           2  tu2mmh  https://www.reddit.com/r/wallstreetbets/commen...   \n3           3  tu2men  https://www.reddit.com/r/wallstreetbets/commen...   \n4           4  tu2do4                https://i.redd.it/xtiyaju5mzq81.jpg   \n\n                                               title  score  num_comments  \\\n0                                            r/place      1             2   \n1                        Diamond hands in Madison WI      1             0   \n2  GameStop's Board of Directors wants to dilute ...      0            12   \n3                     ok..OK... what happened today?      0            24   \n4  Just a couple of my positions… ($SPY & $NIO hi...      1             2   \n\n  created_utc                                           selftext  \\\n0  2022-04-01                                                NaN   \n1  2022-04-01                                                NaN   \n2  2022-04-01  The below is an excerpt from GameStop's recent...   \n3  2022-04-01                                                NaN   \n4  2022-04-01                                                NaN   \n\n                                        top_comments    sp500   Open  \\\n0                                                NaN  4545.86  188.9   \n1                                                NaN  4545.86  188.9   \n2  1 Billion shares for a mall/strip-mall brick-a...  4545.86  188.9   \n3  dude its a momentum trade, theres no real sens...  4545.86  188.9   \n4                                                NaN  4545.86  188.9   \n\n       High     Low  Close    Volume  \n0  189.7688  155.26  165.0  13189563  \n1  189.7688  155.26  165.0  13189563  \n2  189.7688  155.26  165.0  13189563  \n3  189.7688  155.26  165.0  13189563  \n4  189.7688  155.26  165.0  13189563  ",
      "text/html": "<div>\n<style scoped>\n    .dataframe tbody tr th:only-of-type {\n        vertical-align: middle;\n    }\n\n    .dataframe tbody tr th {\n        vertical-align: top;\n    }\n\n    .dataframe thead th {\n        text-align: right;\n    }\n</style>\n<table border=\"1\" class=\"dataframe\">\n  <thead>\n    <tr style=\"text-align: right;\">\n      <th></th>\n      <th>Unnamed: 0</th>\n      <th>id</th>\n      <th>url</th>\n      <th>title</th>\n      <th>score</th>\n      <th>num_comments</th>\n      <th>created_utc</th>\n      <th>selftext</th>\n      <th>top_comments</th>\n      <th>sp500</th>\n      <th>Open</th>\n      <th>High</th>\n      <th>Low</th>\n      <th>Close</th>\n      <th>Volume</th>\n    </tr>\n  </thead>\n  <tbody>\n    <tr>\n      <th>0</th>\n      <td>0</td>\n      <td>tu2rj7</td>\n      <td>https://www.reddit.com/r/wallstreetbets/commen...</td>\n      <td>r/place</td>\n      <td>1</td>\n      <td>2</td>\n      <td>2022-04-01</td>\n      <td>NaN</td>\n      <td>NaN</td>\n      <td>4545.86</td>\n      <td>188.9</td>\n      <td>189.7688</td>\n      <td>155.26</td>\n      <td>165.0</td>\n      <td>13189563</td>\n    </tr>\n    <tr>\n      <th>1</th>\n      <td>1</td>\n      <td>tu2mtj</td>\n      <td>https://i.redd.it/yp2zfi16ozq81.jpg</td>\n      <td>Diamond hands in Madison WI</td>\n      <td>1</td>\n      <td>0</td>\n      <td>2022-04-01</td>\n      <td>NaN</td>\n      <td>NaN</td>\n      <td>4545.86</td>\n      <td>188.9</td>\n      <td>189.7688</td>\n      <td>155.26</td>\n      <td>165.0</td>\n      <td>13189563</td>\n    </tr>\n    <tr>\n      <th>2</th>\n      <td>2</td>\n      <td>tu2mmh</td>\n      <td>https://www.reddit.com/r/wallstreetbets/commen...</td>\n      <td>GameStop's Board of Directors wants to dilute ...</td>\n      <td>0</td>\n      <td>12</td>\n      <td>2022-04-01</td>\n      <td>The below is an excerpt from GameStop's recent...</td>\n      <td>1 Billion shares for a mall/strip-mall brick-a...</td>\n      <td>4545.86</td>\n      <td>188.9</td>\n      <td>189.7688</td>\n      <td>155.26</td>\n      <td>165.0</td>\n      <td>13189563</td>\n    </tr>\n    <tr>\n      <th>3</th>\n      <td>3</td>\n      <td>tu2men</td>\n      <td>https://www.reddit.com/r/wallstreetbets/commen...</td>\n      <td>ok..OK... what happened today?</td>\n      <td>0</td>\n      <td>24</td>\n      <td>2022-04-01</td>\n      <td>NaN</td>\n      <td>dude its a momentum trade, theres no real sens...</td>\n      <td>4545.86</td>\n      <td>188.9</td>\n      <td>189.7688</td>\n      <td>155.26</td>\n      <td>165.0</td>\n      <td>13189563</td>\n    </tr>\n    <tr>\n      <th>4</th>\n      <td>4</td>\n      <td>tu2do4</td>\n      <td>https://i.redd.it/xtiyaju5mzq81.jpg</td>\n      <td>Just a couple of my positions… ($SPY &amp; $NIO hi...</td>\n      <td>1</td>\n      <td>2</td>\n      <td>2022-04-01</td>\n      <td>NaN</td>\n      <td>NaN</td>\n      <td>4545.86</td>\n      <td>188.9</td>\n      <td>189.7688</td>\n      <td>155.26</td>\n      <td>165.0</td>\n      <td>13189563</td>\n    </tr>\n  </tbody>\n</table>\n</div>"
     },
     "execution_count": 5,
     "metadata": {},
     "output_type": "execute_result"
    }
   ],
   "source": [
    "df_raw = pd.read_csv(os.path.join(cwd, 'data\\\\raw\\\\df_raw.csv'), encoding='utf-8-sig')\n",
    "df_raw.head()"
   ],
   "metadata": {
    "collapsed": false,
    "pycharm": {
     "name": "#%%\n"
    }
   }
  }
 ],
 "metadata": {
  "kernelspec": {
   "display_name": "Python 3",
   "language": "python",
   "name": "python3"
  },
  "language_info": {
   "codemirror_mode": {
    "name": "ipython",
    "version": 2
   },
   "file_extension": ".py",
   "mimetype": "text/x-python",
   "name": "python",
   "nbconvert_exporter": "python",
   "pygments_lexer": "ipython2",
   "version": "2.7.6"
  }
 },
 "nbformat": 4,
 "nbformat_minor": 0
}