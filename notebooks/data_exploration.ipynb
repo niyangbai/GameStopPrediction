{
 "cells": [
  {
   "cell_type": "markdown",
   "source": [
    "Data Exploration\n",
    "=======\n",
    "In this section is mainly to show the raw data structure, cleaning and vectorization process. With the help of `praw` and `pasw`, raw data can be crawled from *Reddit.com*."
   ],
   "metadata": {
    "collapsed": false,
    "pycharm": {
     "name": "#%% md\n"
    }
   }
  },
  {
   "cell_type": "code",
   "execution_count": 1,
   "metadata": {
    "collapsed": true,
    "pycharm": {
     "name": "#%%\n"
    }
   },
   "outputs": [],
   "source": [
    "import os\n",
    "import pandas as pd\n",
    "\n",
    "os.chdir('D:\\\\github\\\\master_thesis_2022')\n",
    "cwd = os.getcwd()"
   ]
  },
  {
   "cell_type": "markdown",
   "source": [
    "As shown in the following table, `id`, `url`, `title`, `score`, `num_comments`, `created_utc`,`selftext` and `top_comments` of each submission are recorded.\n",
    "\n",
    "* `id` refers to the 6-digit unique code for every submission, and they can be reached by <u>*https://redd.it/* + *id*</u>. For example, <u>https://redd.it/tu2men</u> leads to the submission with `id` : *tu2men*\n",
    "* `url` is the original url of every submission.\n",
    "* `title` is the original title of every submission, which can be deleted by user itself or removed by block moderators.\n",
    "* `score` is simply the number of upvotes minus the number of downvotes.\n",
    "* `num_comments` refers to the number of comments of every submission.\n",
    "* `created_utc` is the creat time of every submission in Coordinated Universal Time format.\n",
    "* `selftext` is the body of every submission. It can be text, image or empty.\n",
    "* `top_comments` is the combination of the first few comments sorted by option *top*. Note that the comments by spam users i.e. those who always post unrelated content e.g. community regulations and ads are removed in advance."
   ],
   "metadata": {
    "collapsed": false,
    "pycharm": {
     "name": "#%% md\n"
    }
   }
  },
  {
   "cell_type": "code",
   "execution_count": 2,
   "outputs": [
    {
     "data": {
      "text/plain": "       id                                                url  \\\n0  tu2rj7  https://www.reddit.com/r/wallstreetbets/commen...   \n1  tu2mtj                https://i.redd.it/yp2zfi16ozq81.jpg   \n2  tu2mmh  https://www.reddit.com/r/wallstreetbets/commen...   \n3  tu2men  https://www.reddit.com/r/wallstreetbets/commen...   \n4  tu2do4                https://i.redd.it/xtiyaju5mzq81.jpg   \n\n                                               title  score  num_comments  \\\n0                                            r/place      1             2   \n1                        Diamond hands in Madison WI      1             0   \n2  GameStop's Board of Directors wants to dilute ...      0            12   \n3                     ok..OK... what happened today?      0            24   \n4  Just a couple of my positions… ($SPY & $NIO hi...      1             2   \n\n    created_utc                                           selftext  \\\n0  1.648850e+09                                          [removed]   \n1  1.648850e+09                                                NaN   \n2  1.648850e+09  The below is an excerpt from GameStop's recent...   \n3  1.648850e+09                                          [removed]   \n4  1.648849e+09                                                NaN   \n\n                                        top_comments  \n0                                                NaN  \n1                                                NaN  \n2  1 Billion shares for a mall/strip-mall brick-a...  \n3  dude its a momentum trade, theres no real sens...  \n4                                                NaN  ",
      "text/html": "<div>\n<style scoped>\n    .dataframe tbody tr th:only-of-type {\n        vertical-align: middle;\n    }\n\n    .dataframe tbody tr th {\n        vertical-align: top;\n    }\n\n    .dataframe thead th {\n        text-align: right;\n    }\n</style>\n<table border=\"1\" class=\"dataframe\">\n  <thead>\n    <tr style=\"text-align: right;\">\n      <th></th>\n      <th>id</th>\n      <th>url</th>\n      <th>title</th>\n      <th>score</th>\n      <th>num_comments</th>\n      <th>created_utc</th>\n      <th>selftext</th>\n      <th>top_comments</th>\n    </tr>\n  </thead>\n  <tbody>\n    <tr>\n      <th>0</th>\n      <td>tu2rj7</td>\n      <td>https://www.reddit.com/r/wallstreetbets/commen...</td>\n      <td>r/place</td>\n      <td>1</td>\n      <td>2</td>\n      <td>1.648850e+09</td>\n      <td>[removed]</td>\n      <td>NaN</td>\n    </tr>\n    <tr>\n      <th>1</th>\n      <td>tu2mtj</td>\n      <td>https://i.redd.it/yp2zfi16ozq81.jpg</td>\n      <td>Diamond hands in Madison WI</td>\n      <td>1</td>\n      <td>0</td>\n      <td>1.648850e+09</td>\n      <td>NaN</td>\n      <td>NaN</td>\n    </tr>\n    <tr>\n      <th>2</th>\n      <td>tu2mmh</td>\n      <td>https://www.reddit.com/r/wallstreetbets/commen...</td>\n      <td>GameStop's Board of Directors wants to dilute ...</td>\n      <td>0</td>\n      <td>12</td>\n      <td>1.648850e+09</td>\n      <td>The below is an excerpt from GameStop's recent...</td>\n      <td>1 Billion shares for a mall/strip-mall brick-a...</td>\n    </tr>\n    <tr>\n      <th>3</th>\n      <td>tu2men</td>\n      <td>https://www.reddit.com/r/wallstreetbets/commen...</td>\n      <td>ok..OK... what happened today?</td>\n      <td>0</td>\n      <td>24</td>\n      <td>1.648850e+09</td>\n      <td>[removed]</td>\n      <td>dude its a momentum trade, theres no real sens...</td>\n    </tr>\n    <tr>\n      <th>4</th>\n      <td>tu2do4</td>\n      <td>https://i.redd.it/xtiyaju5mzq81.jpg</td>\n      <td>Just a couple of my positions… ($SPY &amp; $NIO hi...</td>\n      <td>1</td>\n      <td>2</td>\n      <td>1.648849e+09</td>\n      <td>NaN</td>\n      <td>NaN</td>\n    </tr>\n  </tbody>\n</table>\n</div>"
     },
     "execution_count": 2,
     "metadata": {},
     "output_type": "execute_result"
    }
   ],
   "source": [
    "raw = pd.read_csv(os.path.join(cwd, 'data\\\\interim\\\\df_raw.csv'), encoding='utf-8-sig')\n",
    "raw.head()"
   ],
   "metadata": {
    "collapsed": false,
    "pycharm": {
     "name": "#%%\n"
    }
   }
  },
  {
   "cell_type": "markdown",
   "source": [
    "For data cleaning process, several steps are followed.\n",
    "1. Instead of `None`, *[deleted]* or *[removed]* are collected for deleted or removed content. So, replace them with `None` is necessary.\n",
    "2. A submission is totally useless if all three key cells i.e. `title`, `selftext` and `top_comments` are empty. So, they are all removed.\n",
    "3. *New Line* i.e. */n* are replaced simply with space.\n",
    "4. *urls* and *images* in the text are removed as they contain no information for NLP.\n",
    "5. Submit time are reformatted into human time at the day level."
   ],
   "metadata": {
    "collapsed": false,
    "pycharm": {
     "name": "#%% md\n"
    }
   }
  },
  {
   "cell_type": "code",
   "execution_count": 3,
   "outputs": [
    {
     "data": {
      "text/plain": "       id                                                url  \\\n0  tu2rj7  https://www.reddit.com/r/wallstreetbets/commen...   \n1  tu2mtj                https://i.redd.it/yp2zfi16ozq81.jpg   \n2  tu2mmh  https://www.reddit.com/r/wallstreetbets/commen...   \n3  tu2men  https://www.reddit.com/r/wallstreetbets/commen...   \n4  tu2do4                https://i.redd.it/xtiyaju5mzq81.jpg   \n\n                                               title  score  num_comments  \\\n0                                            r/place      1             2   \n1                        Diamond hands in Madison WI      1             0   \n2  GameStop's Board of Directors wants to dilute ...      0            12   \n3                     ok..OK... what happened today?      0            24   \n4  Just a couple of my positions… ($SPY & $NIO hi...      1             2   \n\n  created_utc                                           selftext  \\\n0    04-01-22                                                NaN   \n1    04-01-22                                                NaN   \n2    04-01-22  The below is an excerpt from GameStop's recent...   \n3    04-01-22                                                NaN   \n4    04-01-22                                                NaN   \n\n                                        top_comments  \n0                                                NaN  \n1                                                NaN  \n2  1 Billion shares for a mall/strip-mall brick-a...  \n3  dude its a momentum trade, theres no real sens...  \n4                                                NaN  ",
      "text/html": "<div>\n<style scoped>\n    .dataframe tbody tr th:only-of-type {\n        vertical-align: middle;\n    }\n\n    .dataframe tbody tr th {\n        vertical-align: top;\n    }\n\n    .dataframe thead th {\n        text-align: right;\n    }\n</style>\n<table border=\"1\" class=\"dataframe\">\n  <thead>\n    <tr style=\"text-align: right;\">\n      <th></th>\n      <th>id</th>\n      <th>url</th>\n      <th>title</th>\n      <th>score</th>\n      <th>num_comments</th>\n      <th>created_utc</th>\n      <th>selftext</th>\n      <th>top_comments</th>\n    </tr>\n  </thead>\n  <tbody>\n    <tr>\n      <th>0</th>\n      <td>tu2rj7</td>\n      <td>https://www.reddit.com/r/wallstreetbets/commen...</td>\n      <td>r/place</td>\n      <td>1</td>\n      <td>2</td>\n      <td>04-01-22</td>\n      <td>NaN</td>\n      <td>NaN</td>\n    </tr>\n    <tr>\n      <th>1</th>\n      <td>tu2mtj</td>\n      <td>https://i.redd.it/yp2zfi16ozq81.jpg</td>\n      <td>Diamond hands in Madison WI</td>\n      <td>1</td>\n      <td>0</td>\n      <td>04-01-22</td>\n      <td>NaN</td>\n      <td>NaN</td>\n    </tr>\n    <tr>\n      <th>2</th>\n      <td>tu2mmh</td>\n      <td>https://www.reddit.com/r/wallstreetbets/commen...</td>\n      <td>GameStop's Board of Directors wants to dilute ...</td>\n      <td>0</td>\n      <td>12</td>\n      <td>04-01-22</td>\n      <td>The below is an excerpt from GameStop's recent...</td>\n      <td>1 Billion shares for a mall/strip-mall brick-a...</td>\n    </tr>\n    <tr>\n      <th>3</th>\n      <td>tu2men</td>\n      <td>https://www.reddit.com/r/wallstreetbets/commen...</td>\n      <td>ok..OK... what happened today?</td>\n      <td>0</td>\n      <td>24</td>\n      <td>04-01-22</td>\n      <td>NaN</td>\n      <td>dude its a momentum trade, theres no real sens...</td>\n    </tr>\n    <tr>\n      <th>4</th>\n      <td>tu2do4</td>\n      <td>https://i.redd.it/xtiyaju5mzq81.jpg</td>\n      <td>Just a couple of my positions… ($SPY &amp; $NIO hi...</td>\n      <td>1</td>\n      <td>2</td>\n      <td>04-01-22</td>\n      <td>NaN</td>\n      <td>NaN</td>\n    </tr>\n  </tbody>\n</table>\n</div>"
     },
     "execution_count": 3,
     "metadata": {},
     "output_type": "execute_result"
    }
   ],
   "source": [
    "clean = pd.read_csv(os.path.join(cwd, 'data\\\\interim\\\\df_clean.csv'), encoding='utf-8-sig')\n",
    "clean.head()"
   ],
   "metadata": {
    "collapsed": false,
    "pycharm": {
     "name": "#%%\n"
    }
   }
  }
 ],
 "metadata": {
  "kernelspec": {
   "display_name": "Python 3",
   "language": "python",
   "name": "python3"
  },
  "language_info": {
   "codemirror_mode": {
    "name": "ipython",
    "version": 2
   },
   "file_extension": ".py",
   "mimetype": "text/x-python",
   "name": "python",
   "nbconvert_exporter": "python",
   "pygments_lexer": "ipython2",
   "version": "2.7.6"
  }
 },
 "nbformat": 4,
 "nbformat_minor": 0
}