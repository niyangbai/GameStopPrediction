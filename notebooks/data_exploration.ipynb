{
 "cells": [
  {
   "cell_type": "markdown",
   "source": [
    "Data Exploration\n",
    "=======\n",
    "In this section, data structure, cleaning and vectorization process are shown."
   ],
   "metadata": {
    "collapsed": false,
    "pycharm": {
     "name": "#%% md\n"
    }
   }
  },
  {
   "cell_type": "code",
   "execution_count": 8,
   "metadata": {
    "collapsed": true,
    "pycharm": {
     "name": "#%%\n"
    }
   },
   "outputs": [
    {
     "ename": "ImportError",
     "evalue": "cannot import name 'ApiGetData' from 'src' (D:\\github\\master_thesis_2022\\src\\__init__.py)",
     "output_type": "error",
     "traceback": [
      "\u001B[1;31m---------------------------------------------------------------------------\u001B[0m",
      "\u001B[1;31mImportError\u001B[0m                               Traceback (most recent call last)",
      "Input \u001B[1;32mIn [8]\u001B[0m, in \u001B[0;36m<cell line: 2>\u001B[1;34m()\u001B[0m\n\u001B[0;32m      1\u001B[0m \u001B[38;5;28;01mimport\u001B[39;00m \u001B[38;5;21;01mos\u001B[39;00m\n\u001B[1;32m----> 2\u001B[0m \u001B[38;5;28;01mfrom\u001B[39;00m \u001B[38;5;21;01msrc\u001B[39;00m \u001B[38;5;28;01mimport\u001B[39;00m ApiGetData\n\u001B[0;32m      3\u001B[0m os\u001B[38;5;241m.\u001B[39mchdir(\u001B[38;5;124m'\u001B[39m\u001B[38;5;124mD:\u001B[39m\u001B[38;5;130;01m\\\\\u001B[39;00m\u001B[38;5;124mgithub\u001B[39m\u001B[38;5;130;01m\\\\\u001B[39;00m\u001B[38;5;124mmaster_thesis_2022\u001B[39m\u001B[38;5;124m'\u001B[39m)\n\u001B[0;32m      4\u001B[0m cwd \u001B[38;5;241m=\u001B[39m os\u001B[38;5;241m.\u001B[39mgetcwd()\n",
      "\u001B[1;31mImportError\u001B[0m: cannot import name 'ApiGetData' from 'src' (D:\\github\\master_thesis_2022\\src\\__init__.py)"
     ]
    }
   ],
   "source": [
    "import os\n",
    "from src import ApiGetData\n",
    "os.chdir('D:\\\\github\\\\master_thesis_2022')\n",
    "cwd = os.getcwd()"
   ]
  },
  {
   "cell_type": "code",
   "execution_count": 17,
   "outputs": [
    {
     "data": {
      "text/plain": "       id                                                url  \\\n0  tu2rj7  https://www.reddit.com/r/wallstreetbets/commen...   \n1  tu2mtj                https://i.redd.it/yp2zfi16ozq81.jpg   \n2  tu2mmh  https://www.reddit.com/r/wallstreetbets/commen...   \n3  tu2men  https://www.reddit.com/r/wallstreetbets/commen...   \n4  tu2do4                https://i.redd.it/xtiyaju5mzq81.jpg   \n\n                                               title  score  num_comments  \\\n0                                            r/place      1             2   \n1                        Diamond hands in Madison WI      1             0   \n2  GameStop's Board of Directors wants to dilute ...      0            12   \n3                     ok..OK... what happened today?      0            24   \n4  Just a couple of my positions… ($SPY & $NIO hi...      1             2   \n\n    created_utc                                           selftext  \\\n0  1.648850e+09                                          [removed]   \n1  1.648850e+09                                                NaN   \n2  1.648850e+09  The below is an excerpt from GameStop's recent...   \n3  1.648850e+09                                          [removed]   \n4  1.648849e+09                                                NaN   \n\n                                        top_comments  \n0                                                NaN  \n1                                                NaN  \n2  1 Billion shares for a mall/strip-mall brick-a...  \n3  dude its a momentum trade, theres no real sens...  \n4                                                NaN  ",
      "text/html": "<div>\n<style scoped>\n    .dataframe tbody tr th:only-of-type {\n        vertical-align: middle;\n    }\n\n    .dataframe tbody tr th {\n        vertical-align: top;\n    }\n\n    .dataframe thead th {\n        text-align: right;\n    }\n</style>\n<table border=\"1\" class=\"dataframe\">\n  <thead>\n    <tr style=\"text-align: right;\">\n      <th></th>\n      <th>id</th>\n      <th>url</th>\n      <th>title</th>\n      <th>score</th>\n      <th>num_comments</th>\n      <th>created_utc</th>\n      <th>selftext</th>\n      <th>top_comments</th>\n    </tr>\n  </thead>\n  <tbody>\n    <tr>\n      <th>0</th>\n      <td>tu2rj7</td>\n      <td>https://www.reddit.com/r/wallstreetbets/commen...</td>\n      <td>r/place</td>\n      <td>1</td>\n      <td>2</td>\n      <td>1.648850e+09</td>\n      <td>[removed]</td>\n      <td>NaN</td>\n    </tr>\n    <tr>\n      <th>1</th>\n      <td>tu2mtj</td>\n      <td>https://i.redd.it/yp2zfi16ozq81.jpg</td>\n      <td>Diamond hands in Madison WI</td>\n      <td>1</td>\n      <td>0</td>\n      <td>1.648850e+09</td>\n      <td>NaN</td>\n      <td>NaN</td>\n    </tr>\n    <tr>\n      <th>2</th>\n      <td>tu2mmh</td>\n      <td>https://www.reddit.com/r/wallstreetbets/commen...</td>\n      <td>GameStop's Board of Directors wants to dilute ...</td>\n      <td>0</td>\n      <td>12</td>\n      <td>1.648850e+09</td>\n      <td>The below is an excerpt from GameStop's recent...</td>\n      <td>1 Billion shares for a mall/strip-mall brick-a...</td>\n    </tr>\n    <tr>\n      <th>3</th>\n      <td>tu2men</td>\n      <td>https://www.reddit.com/r/wallstreetbets/commen...</td>\n      <td>ok..OK... what happened today?</td>\n      <td>0</td>\n      <td>24</td>\n      <td>1.648850e+09</td>\n      <td>[removed]</td>\n      <td>dude its a momentum trade, theres no real sens...</td>\n    </tr>\n    <tr>\n      <th>4</th>\n      <td>tu2do4</td>\n      <td>https://i.redd.it/xtiyaju5mzq81.jpg</td>\n      <td>Just a couple of my positions… ($SPY &amp; $NIO hi...</td>\n      <td>1</td>\n      <td>2</td>\n      <td>1.648849e+09</td>\n      <td>NaN</td>\n      <td>NaN</td>\n    </tr>\n  </tbody>\n</table>\n</div>"
     },
     "execution_count": 17,
     "metadata": {},
     "output_type": "execute_result"
    }
   ],
   "source": [
    "raw = pd.read_csv(os.path.join(cwd, 'data\\\\interim\\\\df_raw.csv'), encoding='utf-8-sig')\n",
    "raw.head()"
   ],
   "metadata": {
    "collapsed": false,
    "pycharm": {
     "name": "#%%\n"
    }
   }
  },
  {
   "cell_type": "code",
   "execution_count": 18,
   "outputs": [
    {
     "data": {
      "text/plain": "       id                                                url  \\\n0  tu2rj7  https://www.reddit.com/r/wallstreetbets/commen...   \n1  tu2mtj                https://i.redd.it/yp2zfi16ozq81.jpg   \n2  tu2mmh  https://www.reddit.com/r/wallstreetbets/commen...   \n3  tu2men  https://www.reddit.com/r/wallstreetbets/commen...   \n4  tu2do4                https://i.redd.it/xtiyaju5mzq81.jpg   \n\n                                               title  score  num_comments  \\\n0                                            r/place      1             2   \n1                        Diamond hands in Madison WI      1             0   \n2  GameStop's Board of Directors wants to dilute ...      0            12   \n3                     ok..OK... what happened today?      0            24   \n4  Just a couple of my positions… ($SPY & $NIO hi...      1             2   \n\n  created_utc                                           selftext  \\\n0    04-01-22                                                NaN   \n1    04-01-22                                                NaN   \n2    04-01-22  The below is an excerpt from GameStop's recent...   \n3    04-01-22                                                NaN   \n4    04-01-22                                                NaN   \n\n                                        top_comments  \n0                                                NaN  \n1                                                NaN  \n2  1 Billion shares for a mall/strip-mall brick-a...  \n3  dude its a momentum trade, theres no real sens...  \n4                                                NaN  ",
      "text/html": "<div>\n<style scoped>\n    .dataframe tbody tr th:only-of-type {\n        vertical-align: middle;\n    }\n\n    .dataframe tbody tr th {\n        vertical-align: top;\n    }\n\n    .dataframe thead th {\n        text-align: right;\n    }\n</style>\n<table border=\"1\" class=\"dataframe\">\n  <thead>\n    <tr style=\"text-align: right;\">\n      <th></th>\n      <th>id</th>\n      <th>url</th>\n      <th>title</th>\n      <th>score</th>\n      <th>num_comments</th>\n      <th>created_utc</th>\n      <th>selftext</th>\n      <th>top_comments</th>\n    </tr>\n  </thead>\n  <tbody>\n    <tr>\n      <th>0</th>\n      <td>tu2rj7</td>\n      <td>https://www.reddit.com/r/wallstreetbets/commen...</td>\n      <td>r/place</td>\n      <td>1</td>\n      <td>2</td>\n      <td>04-01-22</td>\n      <td>NaN</td>\n      <td>NaN</td>\n    </tr>\n    <tr>\n      <th>1</th>\n      <td>tu2mtj</td>\n      <td>https://i.redd.it/yp2zfi16ozq81.jpg</td>\n      <td>Diamond hands in Madison WI</td>\n      <td>1</td>\n      <td>0</td>\n      <td>04-01-22</td>\n      <td>NaN</td>\n      <td>NaN</td>\n    </tr>\n    <tr>\n      <th>2</th>\n      <td>tu2mmh</td>\n      <td>https://www.reddit.com/r/wallstreetbets/commen...</td>\n      <td>GameStop's Board of Directors wants to dilute ...</td>\n      <td>0</td>\n      <td>12</td>\n      <td>04-01-22</td>\n      <td>The below is an excerpt from GameStop's recent...</td>\n      <td>1 Billion shares for a mall/strip-mall brick-a...</td>\n    </tr>\n    <tr>\n      <th>3</th>\n      <td>tu2men</td>\n      <td>https://www.reddit.com/r/wallstreetbets/commen...</td>\n      <td>ok..OK... what happened today?</td>\n      <td>0</td>\n      <td>24</td>\n      <td>04-01-22</td>\n      <td>NaN</td>\n      <td>dude its a momentum trade, theres no real sens...</td>\n    </tr>\n    <tr>\n      <th>4</th>\n      <td>tu2do4</td>\n      <td>https://i.redd.it/xtiyaju5mzq81.jpg</td>\n      <td>Just a couple of my positions… ($SPY &amp; $NIO hi...</td>\n      <td>1</td>\n      <td>2</td>\n      <td>04-01-22</td>\n      <td>NaN</td>\n      <td>NaN</td>\n    </tr>\n  </tbody>\n</table>\n</div>"
     },
     "execution_count": 18,
     "metadata": {},
     "output_type": "execute_result"
    }
   ],
   "source": [
    "clean = pd.read_csv(os.path.join(cwd, 'data\\\\interim\\\\df_clean.csv'), encoding='utf-8-sig')\n",
    "clean.head()"
   ],
   "metadata": {
    "collapsed": false,
    "pycharm": {
     "name": "#%%\n"
    }
   }
  }
 ],
 "metadata": {
  "kernelspec": {
   "display_name": "Python 3",
   "language": "python",
   "name": "python3"
  },
  "language_info": {
   "codemirror_mode": {
    "name": "ipython",
    "version": 2
   },
   "file_extension": ".py",
   "mimetype": "text/x-python",
   "name": "python",
   "nbconvert_exporter": "python",
   "pygments_lexer": "ipython2",
   "version": "2.7.6"
  }
 },
 "nbformat": 4,
 "nbformat_minor": 0
}